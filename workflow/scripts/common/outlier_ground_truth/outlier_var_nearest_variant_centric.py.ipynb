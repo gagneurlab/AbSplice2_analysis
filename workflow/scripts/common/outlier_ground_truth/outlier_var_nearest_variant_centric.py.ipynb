{
 "cells": [
  {
   "cell_type": "code",
   "execution_count": 2,
   "id": "944e4ee4-95f0-427e-af73-c683de10f047",
   "metadata": {},
   "outputs": [],
   "source": [
    "from absplice_scripts.dataclasses.junction import get_splice_site_intervals, \\\n",
    "    get_unique_splice_site_intervals_in_event, intervals_to_pyranges\n",
    "from splicemap import SpliceCountTable as CountTable\n",
    "import pandas as pd\n",
    "from typing import List, Union, Iterable, Iterator\n",
    "import pyranges as pr\n",
    "from kipoiseq.dataclasses import Variant, Interval\n",
    "from kipoiseq.extractors import variants_to_pyranges\n",
    "from tqdm import tqdm\n",
    "\n",
    "from splicemap.count_table import SpliceCountTable"
   ]
  },
  {
   "cell_type": "code",
   "execution_count": null,
   "id": "68b2566d-b013-4358-8a7d-cad3a0321fe8",
   "metadata": {},
   "outputs": [],
   "source": [
    "try:\n",
    "    snakemake\n",
    "except NameError:\n",
    "    import os\n",
    "#     os.chdir('../..')\n",
    "\n",
    "    from snakemk_util import load_rule_args\n",
    "\n",
    "    snakemake = load_rule_args(\n",
    "        snakefile = 'Snakefile',\n",
    "        rule_name = 'outlier_var_nearest_variant_centric',\n",
    "        root=os.getcwd(),\n",
    "        default_wildcards={\n",
    "#             'features': ['delta_score', 'delta_psi'],\n",
    "            # 'tissue': 'Heart_Left_Ventricle',\n",
    "            # 'vcf_id': 'chr14',\n",
    "            # 'delta_psi_cutoff': 0.1,\n",
    "            # 'outlier_type': 'psi5__psi3',\n",
    "            \n",
    "            'tissue': 'Adipose_Subcutaneous',\n",
    "            'vcf_id': 'chr1',\n",
    "            'delta_psi_cutoff': 0.3,\n",
    "            'outlier_type': 'psi5__psi3__theta',\n",
    "        }\n",
    "    )"
   ]
  },
  {
   "cell_type": "markdown",
   "id": "bad9a6f5-2729-427d-867f-fe0d9398062e",
   "metadata": {},
   "source": [
    "# Outliers"
   ]
  },
  {
   "cell_type": "code",
   "execution_count": 10,
   "id": "9f2e56cb-9060-4936-ae89-4208ec999e1e",
   "metadata": {},
   "outputs": [],
   "source": [
    "df_outlier = pd.read_csv(snakemake.input['outliers_signif'])\n",
    "\n",
    "df_outlier['junctions'] = df_outlier['junctions_j']\n",
    "df_outlier['events'] = df_outlier['events_j']\n",
    "\n",
    "df_outlier = df_outlier.set_index('junctions')\n",
    "df_outlier['events'] = df_outlier['events'].str.split(';')"
   ]
  },
  {
   "cell_type": "code",
   "execution_count": 11,
   "id": "cee814c9-5141-42f9-a161-5557e3a0df02",
   "metadata": {},
   "outputs": [],
   "source": [
    "df_outlier = df_outlier[\n",
    "    df_outlier['seqnames_j'] == snakemake.wildcards['vcf_id']\n",
    "]"
   ]
  },
  {
   "cell_type": "code",
   "execution_count": 12,
   "id": "80a4b713-dcf2-471a-a858-aac9ee5884e9",
   "metadata": {},
   "outputs": [
    {
     "data": {
      "text/plain": [
       "['chr20']"
      ]
     },
     "execution_count": 12,
     "metadata": {},
     "output_type": "execute_result"
    }
   ],
   "source": [
    "sorted(set(df_outlier['seqnames_j']))"
   ]
  },
  {
   "cell_type": "code",
   "execution_count": 13,
   "id": "d8a81130-dc71-483c-a5bf-1590b4ebfac1",
   "metadata": {},
   "outputs": [
    {
     "data": {
      "text/plain": [
       "(158, 50)"
      ]
     },
     "execution_count": 13,
     "metadata": {},
     "output_type": "execute_result"
    }
   ],
   "source": [
    "df_outlier.shape"
   ]
  },
  {
   "cell_type": "markdown",
   "id": "e4af17db-9add-4314-9088-16d456b6138e",
   "metadata": {},
   "source": [
    "# Rare variants"
   ]
  },
  {
   "cell_type": "code",
   "execution_count": 20,
   "id": "7536b377-1124-4a5f-92ae-4c2ad8196326",
   "metadata": {},
   "outputs": [
    {
     "data": {
      "text/plain": [
       "(462007, 9)"
      ]
     },
     "execution_count": 20,
     "metadata": {},
     "output_type": "execute_result"
    }
   ],
   "source": [
    "df_rare_vars = pd.read_csv(snakemake.input['rare_vars'])\n",
    "\n",
    "df_rare_vars.shape"
   ]
  },
  {
   "cell_type": "code",
   "execution_count": 21,
   "id": "397cdfcc-8b73-4e41-905d-1e0425f54393",
   "metadata": {},
   "outputs": [],
   "source": [
    "common_samples = sorted(set(df_outlier['sample']).intersection(\n",
    "    set(df_rare_vars['sample'])))"
   ]
  },
  {
   "cell_type": "code",
   "execution_count": 22,
   "id": "1e5e3e06-7446-427f-9984-8b7edc3ff688",
   "metadata": {},
   "outputs": [
    {
     "data": {
      "text/plain": [
       "204"
      ]
     },
     "execution_count": 22,
     "metadata": {},
     "output_type": "execute_result"
    }
   ],
   "source": [
    "len(common_samples)"
   ]
  },
  {
   "cell_type": "markdown",
   "id": "d037c48f-b68c-4700-99e4-82b1da71bbe8",
   "metadata": {},
   "source": [
    "# Distance junctions to nearest variant"
   ]
  },
  {
   "cell_type": "code",
   "execution_count": 23,
   "id": "390e6bac-576b-47b2-b9f2-ecf2a21f52d0",
   "metadata": {},
   "outputs": [],
   "source": [
    "def junc_var_dist(df_outlier, df_rare_vars, sample):\n",
    "    df_outlier = df_outlier[df_outlier['sample'] == sample]\n",
    "    df_rare_vars = df_rare_vars[df_rare_vars['sample'] == sample]\n",
    "    \n",
    "    # get unique variants into pyranges\n",
    "    v_list = df_rare_vars['variant'].apply(lambda x: Variant.from_str(x)).values\n",
    "    v_list = list(set(v_list))\n",
    "    pr_rare_vars = variants_to_pyranges(v_list)\n",
    "    \n",
    "    # get unique intervals of outlier events\n",
    "    df_outlier['interval'] = df_outlier['events'].apply(lambda x: get_unique_splice_site_intervals_in_event(x, overhang=(0, 0)))\n",
    "    df_intervals_all = df_outlier.explode('interval')[['interval']]\n",
    "        \n",
    "    # get unique intervals into pyranges\n",
    "    i_list = df_intervals_all['interval'].values\n",
    "    i_list = list(set(i_list))\n",
    "    pr_intervals_unique = intervals_to_pyranges(i_list)\n",
    "    df_intervals_unique = pr_intervals_unique.df\n",
    "    \n",
    "    # get nearest distance of junctions to rare variants\n",
    "    # NOTE: HERE VARIANT COMES FIRST, ALL VARIANTS HAVE TO BE ANNOTATED\n",
    "    pr_intervals_with_rare = pr_rare_vars.k_nearest(pr_intervals_unique, k=1)\n",
    "    df_intervals_with_rare = pr_intervals_with_rare.df\n",
    "    \n",
    "    # interval to string for joining\n",
    "    df_intervals_with_rare['variant'] = df_intervals_with_rare['variant'].apply(lambda x: x.__str__())\n",
    "    df_intervals_all['interval'] = df_intervals_all['interval'].apply(lambda x: x.__str__())\n",
    "    df_intervals_unique['interval'] = df_intervals_unique['interval'].apply(lambda x: x.__str__())\n",
    "    df_intervals_with_rare['interval'] = df_intervals_with_rare['interval'].apply(lambda x: x.__str__())\n",
    "    \n",
    "    # get junction information from df_intervals_all\n",
    "    df_intervals_all = df_intervals_all.reset_index().set_index('interval')\n",
    "    df_intervals_with_rare = df_intervals_with_rare.set_index('interval')\n",
    "    df_junctions_with_rare_event = df_intervals_all.join(\n",
    "        df_intervals_with_rare, how='inner').reset_index()\n",
    "    \n",
    "    # get variant informations from df_rare_vars\n",
    "    df_junctions_with_rare_event['variant'] = df_junctions_with_rare_event['variant'].apply(lambda x: x.__str__())\n",
    "    df_junctions_with_rare_event = df_junctions_with_rare_event.set_index('variant').join(\n",
    "        df_rare_vars.set_index('variant')).reset_index()\n",
    "        \n",
    "    return df_junctions_with_rare_event"
   ]
  },
  {
   "cell_type": "code",
   "execution_count": 24,
   "id": "5877a9f2-265b-4591-a051-aede308d1342",
   "metadata": {},
   "outputs": [
    {
     "name": "stderr",
     "output_type": "stream",
     "text": [
      "  0%|          | 0/204 [00:00<?, ?it/s]/opt/modules/i12g/anaconda/envs/absplice_paper/lib/python3.7/site-packages/ipykernel_launcher.py:11: SettingWithCopyWarning: \n",
      "A value is trying to be set on a copy of a slice from a DataFrame.\n",
      "Try using .loc[row_indexer,col_indexer] = value instead\n",
      "\n",
      "See the caveats in the documentation: https://pandas.pydata.org/pandas-docs/stable/user_guide/indexing.html#returning-a-view-versus-a-copy\n",
      "  # This is added back by InteractiveShellApp.init_path()\n",
      "/data/ouga/home/ag_gagneur/wagnern/.local/lib/python3.7/site-packages/pyranges/methods/k_nearest.py:98: FutureWarning: In a future version of pandas all arguments of DataFrame.drop except for the argument 'labels' will be keyword-only\n",
      "  d2 = d2.drop(\"Chromosome\", 1)\n",
      "100%|██████████| 204/204 [00:19<00:00, 10.39it/s]\n"
     ]
    }
   ],
   "source": [
    "df_junc_vars = list()\n",
    "for sample in tqdm(common_samples):\n",
    "    df_junc_vars.append(junc_var_dist(df_outlier, df_rare_vars, sample))\n",
    "    assert len(set(df_rare_vars[df_rare_vars['sample'] == sample].reset_index()['variant']).difference(\n",
    "        set(df_junc_vars[-1]['variant']))) == 0\n",
    "df_junc_vars = pd.concat(df_junc_vars)"
   ]
  },
  {
   "cell_type": "markdown",
   "id": "bb35787c-1623-439c-8320-ed697d1aa304",
   "metadata": {},
   "source": [
    "# get minimum distance of variant and junction"
   ]
  },
  {
   "cell_type": "code",
   "execution_count": 25,
   "id": "bf5d96bf-860a-4a34-84fd-11a4cf49033c",
   "metadata": {},
   "outputs": [],
   "source": [
    "def get_abs_min_rows(df, groupby, min_col, dropna=True):\n",
    "    df = df.reset_index()\n",
    "    _df = df.copy()\n",
    "    _df[min_col] = _df[min_col].abs()\n",
    "    min_scores = _df.groupby(groupby, dropna=dropna)[min_col].idxmin()\n",
    "    return df.iloc[min_scores.values].set_index(groupby)"
   ]
  },
  {
   "cell_type": "code",
   "execution_count": 44,
   "id": "8d358e6f-2d87-49ed-8c77-33c5673b58a5",
   "metadata": {},
   "outputs": [],
   "source": [
    "# get minimum distance of variant and junction\n",
    "df_junc_vars_min = get_abs_min_rows(\n",
    "    df_junc_vars.set_index(['sample', 'variant']),\n",
    "    min_col='Distance',\n",
    "    groupby=['sample', 'variant']\n",
    ").reset_index()"
   ]
  },
  {
   "cell_type": "code",
   "execution_count": 45,
   "id": "6a8cef13-d6f8-4a62-a115-28cea1334022",
   "metadata": {},
   "outputs": [],
   "source": [
    "df_junc_vars_min['abs_Distance'] = abs(df_junc_vars_min['Distance'])"
   ]
  },
  {
   "cell_type": "markdown",
   "id": "8606bc6d-3be9-4848-a5ce-961056631cfc",
   "metadata": {},
   "source": [
    "# annotate gene"
   ]
  },
  {
   "cell_type": "code",
   "execution_count": null,
   "id": "a500f5b8-ff1b-4d5f-a24a-1a49b25b7b4a",
   "metadata": {},
   "outputs": [],
   "source": [
    "df_junc_vars_min = df_junc_vars_min.set_index(['junctions', 'sample']).join(\n",
    "    df_outlier.reset_index()[['junctions', 'sample', 'gene_id', 'pValueGene_g']].drop_duplicates().set_index(['junctions', 'sample'])).reset_index()"
   ]
  },
  {
   "cell_type": "markdown",
   "id": "9b6e8240-490d-432d-a58c-af4158deff91",
   "metadata": {
    "tags": []
   },
   "source": [
    "# Save results"
   ]
  },
  {
   "cell_type": "code",
   "execution_count": null,
   "id": "6c3a51e8-1d0b-4fa0-b44e-ce7eadf6b1da",
   "metadata": {},
   "outputs": [],
   "source": [
    "df_junc_vars_min.to_csv(snakemake.output['var_junc_nearest'], index=False)"
   ]
  }
 ],
 "metadata": {
  "jupytext": {
   "formats": "ipynb,py:percent"
  },
  "kernelspec": {
   "display_name": "Python [conda env:anaconda-absplice_paper]",
   "language": "python",
   "name": "conda-env-anaconda-absplice_paper-py"
  },
  "language_info": {
   "codemirror_mode": {
    "name": "ipython",
    "version": 3
   },
   "file_extension": ".py",
   "mimetype": "text/x-python",
   "name": "python",
   "nbconvert_exporter": "python",
   "pygments_lexer": "ipython3",
   "version": "3.7.12"
  }
 },
 "nbformat": 4,
 "nbformat_minor": 5
}
